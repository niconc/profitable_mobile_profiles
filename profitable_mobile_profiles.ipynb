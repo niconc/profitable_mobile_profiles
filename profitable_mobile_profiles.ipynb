{
 "cells": [
  {
   "cell_type": "markdown",
   "metadata": {
    "collapsed": true
   },
   "source": [
    "# Google Play & App Store Apps: Free + profitable\n",
    "\n",
    "This is project is aimed to analyse the free application market on both the 2 major mobile platforms. \n",
    "\n",
    "Let's thought for a moment that we're working for a Software House that only build iOS & Android apps and that their business model is to build free apps and make revenue from in-app ads. This means the revenue for any given app is mostly influenced by the number of users who use our app — the more users that see and engage with the ads, the better.\n",
    "\n",
    "Our goal is to deliver analytical data in order to show which free application, platform & type combination is profitable for the developers."
   ]
  },
  {
   "cell_type": "markdown",
   "metadata": {},
   "source": [
    "### The data sets.\n",
    "There are over 4 million apps in both Google Play & App Store. Collecting data for such a vast number of apps requires a significant amount of time and money, so we'll try to analyze a sample of the data instead.\n",
    "\n",
    "We have one [dataset](https://www.kaggle.com/lava18/google-play-store-apps) with approximately [10.000 Android apps](https://dq-content.s3.amazonaws.com/350/googleplaystore.csv) from Google Play and [another](https://www.kaggle.com/ramamet4/app-store-apple-data-set-10k-apps) with approximately [7.000 iOS apps](https://dq-content.s3.amazonaws.com/350/AppleStore.csv) from the App Store.\n",
    "\n",
    "We'll start by opening and exploring these two data sets."
   ]
  },
  {
   "cell_type": "markdown",
   "metadata": {},
   "source": [
    "**Open and prepare the datasets**"
   ]
  },
  {
   "cell_type": "code",
   "execution_count": 1,
   "metadata": {
    "collapsed": true
   },
   "outputs": [],
   "source": [
    "# Read App Store Data.\n",
    "# --------------------------------------------\n",
    "# open file, import reader from module csv, and read data file.\n",
    "openAppStoreFile = open(\"AppleStore.csv\")\n",
    "from csv import reader\n",
    "readAppStoreFile = reader(openAppStoreFile) # reader returns a list\n",
    "\n",
    "# convert it to list of lists.\n",
    "dataAppStore = list(readAppStoreFile) "
   ]
  },
  {
   "cell_type": "code",
   "execution_count": 2,
   "metadata": {
    "collapsed": true
   },
   "outputs": [],
   "source": [
    "# Google Play Data.\n",
    "# --------------------------------------------\n",
    "# open file, import reader from module csv, and read data file.\n",
    "openGooglePlayFile = open(\"googleplaystore.csv\")\n",
    "from csv import reader\n",
    "readGooglePlayFile = reader(openGooglePlayFile) # reader returns a list\n",
    "\n",
    "# convert it to list of lists.\n",
    "dataGooglePlay = list(readGooglePlayFile)"
   ]
  },
  {
   "cell_type": "code",
   "execution_count": 3,
   "metadata": {
    "collapsed": true
   },
   "outputs": [],
   "source": [
    "# To make them easier to explore, we created a function that we can\n",
    "# repeatedly use to print rows in a readable way.\n",
    "\n",
    "# data exploration function:\n",
    "def explore_data(dataset, start, end, rows_and_columns=False):\n",
    "    # dataset: the dataset list of lists, \n",
    "    # start, end: indices of a slice from the dataset,\n",
    "    # rows and columns: Boolean, print the number of rows, columns.\n",
    "    dataset_slice = dataset[start:end]    \n",
    "    for row in dataset_slice:\n",
    "        print(row)\n",
    "        print('\\n') # adds a new (empty) line after each row\n",
    "\n",
    "    if rows_and_columns:\n",
    "        print('Number of rows:', len(dataset))\n",
    "        print('Number of columns:', len(dataset[0]))"
   ]
  },
  {
   "cell_type": "markdown",
   "metadata": {
    "collapsed": true
   },
   "source": [
    "**Explore the datasets**"
   ]
  },
  {
   "cell_type": "code",
   "execution_count": 4,
   "metadata": {
    "collapsed": false
   },
   "outputs": [
    {
     "name": "stdout",
     "output_type": "stream",
     "text": [
      "App Store header (fields):\n",
      "['id', 'track_name', 'size_bytes', 'currency', 'price', 'rating_count_tot', 'rating_count_ver', 'user_rating', 'user_rating_ver', 'ver', 'cont_rating', 'prime_genre', 'sup_devices.num', 'ipadSc_urls.num', 'lang.num', 'vpp_lic']\n",
      "\n",
      "\n",
      "App Store list (data):\n",
      "['284882215', 'Facebook', '389879808', 'USD', '0.0', '2974676', '212', '3.5', '3.5', '95.0', '4+', 'Social Networking', '37', '1', '29', '1']\n",
      "\n",
      "\n",
      "['389801252', 'Instagram', '113954816', 'USD', '0.0', '2161558', '1289', '4.5', '4.0', '10.23', '12+', 'Photo & Video', '37', '0', '29', '1']\n",
      "\n",
      "\n",
      "['529479190', 'Clash of Clans', '116476928', 'USD', '0.0', '2130805', '579', '4.5', '4.5', '9.24.12', '9+', 'Games', '38', '5', '18', '1']\n",
      "\n",
      "\n",
      "['420009108', 'Temple Run', '65921024', 'USD', '0.0', '1724546', '3842', '4.5', '4.0', '1.6.2', '9+', 'Games', '40', '5', '1', '1']\n",
      "\n",
      "\n",
      "['284035177', 'Pandora - Music & Radio', '130242560', 'USD', '0.0', '1126879', '3594', '4.0', '4.5', '8.4.1', '12+', 'Music', '37', '4', '1', '1']\n",
      "\n",
      "\n",
      "Number of rows: 7197\n",
      "Number of columns: 16\n"
     ]
    }
   ],
   "source": [
    "# A little exploration of the App Store data.\n",
    "# 1. Print the header row (the fields, the columns) separately.\n",
    "print(\"App Store header (fields):\")\n",
    "headerAppStore = explore_data(dataAppStore[:1], 0, 1)\n",
    "\n",
    "# 2. Print a few rows.\n",
    "print(\"App Store list (data):\")\n",
    "exploreAppStore = explore_data(dataAppStore[1:], 0, 5, rows_and_columns=True)"
   ]
  },
  {
   "cell_type": "code",
   "execution_count": 5,
   "metadata": {
    "collapsed": false
   },
   "outputs": [
    {
     "name": "stdout",
     "output_type": "stream",
     "text": [
      "Google Play header (fields):\n",
      "['App', 'Category', 'Rating', 'Reviews', 'Size', 'Installs', 'Type', 'Price', 'Content Rating', 'Genres', 'Last Updated', 'Current Ver', 'Android Ver']\n",
      "\n",
      "\n",
      "Google Play list (data):\n",
      "['Photo Editor & Candy Camera & Grid & ScrapBook', 'ART_AND_DESIGN', '4.1', '159', '19M', '10,000+', 'Free', '0', 'Everyone', 'Art & Design', 'January 7, 2018', '1.0.0', '4.0.3 and up']\n",
      "\n",
      "\n",
      "['Coloring book moana', 'ART_AND_DESIGN', '3.9', '967', '14M', '500,000+', 'Free', '0', 'Everyone', 'Art & Design;Pretend Play', 'January 15, 2018', '2.0.0', '4.0.3 and up']\n",
      "\n",
      "\n",
      "['U Launcher Lite – FREE Live Cool Themes, Hide Apps', 'ART_AND_DESIGN', '4.7', '87510', '8.7M', '5,000,000+', 'Free', '0', 'Everyone', 'Art & Design', 'August 1, 2018', '1.2.4', '4.0.3 and up']\n",
      "\n",
      "\n",
      "['Sketch - Draw & Paint', 'ART_AND_DESIGN', '4.5', '215644', '25M', '50,000,000+', 'Free', '0', 'Teen', 'Art & Design', 'June 8, 2018', 'Varies with device', '4.2 and up']\n",
      "\n",
      "\n",
      "['Pixel Draw - Number Art Coloring Book', 'ART_AND_DESIGN', '4.3', '967', '2.8M', '100,000+', 'Free', '0', 'Everyone', 'Art & Design;Creativity', 'June 20, 2018', '1.1', '4.4 and up']\n",
      "\n",
      "\n",
      "Number of rows: 10841\n",
      "Number of columns: 13\n"
     ]
    }
   ],
   "source": [
    "# A little exploration of the Google Play data.\n",
    "# 1. Print the header row (the fields, the columns) separately.\n",
    "print(\"Google Play header (fields):\")\n",
    "headerGooglePlay = explore_data(dataGooglePlay[:1], 0, 1)\n",
    "\n",
    "# 2. Print a few rows.\n",
    "print(\"Google Play list (data):\")\n",
    "exploreAppStore = explore_data(dataGooglePlay[1:], 0, 5, rows_and_columns=True)"
   ]
  },
  {
   "cell_type": "markdown",
   "metadata": {},
   "source": [
    "### Data cleansing time\n",
    "As always and before analysing anything, we need to make sure that data is accurate, no mistakes, duplicate entries or anything misformed is occuring inside the data file."
   ]
  },
  {
   "cell_type": "code",
   "execution_count": 6,
   "metadata": {
    "collapsed": false
   },
   "outputs": [
    {
     "name": "stdout",
     "output_type": "stream",
     "text": [
      "The defected line is this:\n",
      " ['Life Made WI-Fi Touchscreen Photo Frame', '1.9', '19', '3.0M', '1,000+', 'Free', '0', 'Everyone', '', 'February 11, 2018', '1.0.19', '4.0 and up'] \n",
      "\n",
      "['osmino Wi-Fi: free WiFi', 'TOOLS', '4.2', '134203', '4.1M', '10,000,000+', 'Free', '0', 'Everyone', 'Tools', 'August 7, 2018', '6.06.14', '4.4 and up']\n"
     ]
    }
   ],
   "source": [
    "# There is a known error in a particular line, and we're going to fix it.\n",
    "\n",
    "# Find the error row (we know it's in line 10473, with header included).\n",
    "print(\"The defected line is this:\\n\", dataGooglePlay[10473], \"\\n\")\n",
    "# Delete the error row.\n",
    "del dataGooglePlay[10473]\n",
    "print(dataGooglePlay[10473])"
   ]
  },
  {
   "cell_type": "code",
   "execution_count": 7,
   "metadata": {
    "collapsed": true
   },
   "outputs": [],
   "source": [
    "# Define a helper function for use to find duplicates:\n",
    "# ----------------------------------------------------\n",
    "# args: data_set, application name column, platform, header row.\n",
    "# We're forcing for header existence as an argument.\n",
    "def find_data_duplicates(data_set, app_name_col, platform, header):\n",
    "    unique_list = []     # holds the unique values.\n",
    "    duplicates_list = [] # holds the duplicates.\n",
    "\n",
    "    # Duplicates\n",
    "    for row in data_set[1:]:             # loop through the dataset.\n",
    "        name = row[app_name_col]         # get the name of app.\n",
    "        if name in unique_list:          # if it's in \"unique_list\"\n",
    "            duplicates_list.append(name) # add it to duplicates.\n",
    "        else:\n",
    "            unique_list.append(name)     # else, add it to uniques.\n",
    "            \n",
    "    print(\"Number of duplicates for\", platform, \"platform : \", len(duplicates_list))\n",
    "    print(\"Examples of duplicates: \", duplicates_list[:15])       "
   ]
  },
  {
   "cell_type": "markdown",
   "metadata": {},
   "source": [
    "**Cheking for Duplicates**\n",
    "\n",
    "Now, we'll check for duplicates over the two platforms, using the function we just created."
   ]
  },
  {
   "cell_type": "code",
   "execution_count": 8,
   "metadata": {
    "collapsed": false
   },
   "outputs": [
    {
     "name": "stdout",
     "output_type": "stream",
     "text": [
      "Number of duplicates for Google Play platform :  1181\n",
      "Examples of duplicates:  ['Quick PDF Scanner + OCR FREE', 'Box', 'Google My Business', 'ZOOM Cloud Meetings', 'join.me - Simple Meetings', 'Box', 'Zenefits', 'Google Ads', 'Google My Business', 'Slack', 'FreshBooks Classic', 'Insightly CRM', 'QuickBooks Accounting: Invoicing & Expenses', 'HipChat - Chat Built for Teams', 'Xero Accounting Software']\n"
     ]
    }
   ],
   "source": [
    "find_data_duplicates(dataGooglePlay, 0, \"Google Play\", True)"
   ]
  },
  {
   "cell_type": "code",
   "execution_count": 9,
   "metadata": {
    "collapsed": false
   },
   "outputs": [
    {
     "name": "stdout",
     "output_type": "stream",
     "text": [
      "Number of duplicates for App Store platform :  0\n",
      "Examples of duplicates:  []\n"
     ]
    }
   ],
   "source": [
    "find_data_duplicates(dataAppStore, 0, \"App Store\",  True)"
   ]
  },
  {
   "cell_type": "markdown",
   "metadata": {},
   "source": [
    "**Duplicates found**\n",
    "\n",
    "It looks like Google Play has numerous duplicates but App Sore has none."
   ]
  },
  {
   "cell_type": "markdown",
   "metadata": {},
   "source": [
    "### Duplicates Removal: Which one we're going to remove?\n",
    "\n",
    "We won't remove duplicates randomly because as it seems, those duplicates are created using different measurements regarding the number of reviews. So, our strategy would be to keep the entry among duplicates which has the highest review. That way we're ensuring more accuarte results when analysing.\n",
    "\n",
    "Additionally, we may check also the **Dates** among the duplicates and if there're differences, this would be a matter of discussion. (Dates chack requires additional prerequisites."
   ]
  },
  {
   "cell_type": "code",
   "execution_count": 10,
   "metadata": {
    "collapsed": false
   },
   "outputs": [
    {
     "name": "stdout",
     "output_type": "stream",
     "text": [
      "9659\n"
     ]
    }
   ],
   "source": [
    "# Create a new data set by removing duplicates using a dictionary\n",
    "\n",
    "# 1. Create a new dictionary with unique apps vales (name: #reviews)\n",
    "#    (duplicates removed here) based on the highest review.\n",
    "#    We're forcing for header existence as an argument.\n",
    "def remove_duplicates(data_set, app_name_col, reviews_col, header):\n",
    "    reviews_max = {} # the dictionay which holds the clean data set.\n",
    "\n",
    "    # Loop through data\n",
    "    for row in data_set[1:]:\n",
    "        name = row[app_name_col]\n",
    "        n_reviews = float(row[reviews_col])\n",
    "\n",
    "        # if name as key exists and has a value less than what is stored\n",
    "        # in n_reviews, then replace its value in dictionary with\n",
    "        # n_reviews value. Elif, add a new entry.\n",
    "        if name in reviews_max and reviews_max[name] < n_reviews:\n",
    "            reviews_max[name] = n_reviews\n",
    "        elif name not in reviews_max:\n",
    "            reviews_max[name] = n_reviews\n",
    "\n",
    "    return reviews_max\n",
    "\n",
    "dictionaryGooglePlay = remove_duplicates(dataGooglePlay, 0, 3, True)\n",
    "print(len(dictionaryGooglePlay))"
   ]
  },
  {
   "cell_type": "code",
   "execution_count": 11,
   "metadata": {
    "collapsed": false
   },
   "outputs": [
    {
     "name": "stdout",
     "output_type": "stream",
     "text": [
      "9660 (Header is included)\n"
     ]
    }
   ],
   "source": [
    "# 2. Using the dictionary created above, to remove\n",
    "#    the duplicate rows from the original data_set.\n",
    "\n",
    "googlePlay_clean = [] # the new data list\n",
    "already_added = [] # for a special pupose.\n",
    "\n",
    "# A. Get the header and add it to the new list\n",
    "googlePlay_clean.append(dataGooglePlay[0])\n",
    "\n",
    "# Loop through the original data set.\n",
    "# B. get the row\n",
    "for row in dataGooglePlay[1:]:\n",
    "    \n",
    "    # C. get the name of the row\n",
    "    name = row[0]   \n",
    "    n_reviews = float(row[3])\n",
    "    \n",
    "    # C. Compparison and Cleaning\n",
    "    # between original data set and the dictionary.\n",
    "    if n_reviews == dictionaryGooglePlay[name] and name not in already_added:\n",
    "        googlePlay_clean.append(row)\n",
    "        already_added.append(name)\n",
    "\n",
    "print(len(googlePlay_clean), \"(Header is included)\")"
   ]
  },
  {
   "cell_type": "markdown",
   "metadata": {},
   "source": [
    "### Removal of entries in foreign language.\n",
    "\n",
    "Here, we'll clean any app entry which writen and targets a foreign audience."
   ]
  },
  {
   "cell_type": "code",
   "execution_count": 12,
   "metadata": {
    "collapsed": false
   },
   "outputs": [
    {
     "name": "stdout",
     "output_type": "stream",
     "text": [
      "False (the result var)\n"
     ]
    }
   ],
   "source": [
    "def checkEnglishChars(appName):\n",
    "    conseqChars = [] # holds the consequtive characters\n",
    "    for char in appName:\n",
    "        codePoint = ord(char)\n",
    "\n",
    "        # if the string contains > 3 CONSEQUTIVE foreign characters\n",
    "        if codePoint > 127 and len(conseqChars) == 3:\n",
    "            conseqChars.append(char)\n",
    "#             print(conseqChars, len(conseqChars), \"Four (non-English)\")\n",
    "            return False\n",
    "\n",
    "        elif codePoint > 127 and (len(conseqChars) >= 1\n",
    "                                  and len(conseqChars) <= 3):\n",
    "            conseqChars.append(char)\n",
    "#             print(conseqChars, len(conseqChars), \"two to three\")\n",
    "\n",
    "        elif codePoint > 127:\n",
    "            conseqChars.append(char)\n",
    "#             print(conseqChars, len(conseqChars), \"one\")\n",
    "\n",
    "        else:\n",
    "#             print(char, \"(English character)\")\n",
    "            conseqChars = [] # reset the consequtive chars var.\n",
    "    return True\n",
    "        \n",
    "result = checkEnglishChars(\"In😜😜😜at😜😜😜😜edfghdfgh\")\n",
    "print(result, \"(the result var)\") \n",
    "        "
   ]
  },
  {
   "cell_type": "markdown",
   "metadata": {},
   "source": [
    "#### English / non-English: A different strategy\n",
    "I decided to follow a different strategy in the foreign language taging: \n",
    "\n",
    "Rather than filter out and clean the list by removing the non-English app rows, it's better to keep the list intact from removing things and add a boolean data point at the begining, marking the row (the list) as \"True\" if it's English and \"False\" if not.\n",
    "\n",
    "That whay, we can work seemlessly to improve the English/non-English filter without messing and destroying the list.\n",
    "\n",
    "If we want to filter out the English entries, we're looping through the \"True\" data point, or the \"False\" for non-English.\n",
    "\n",
    "I'm guessing we could do the same with dictionary also, right?"
   ]
  },
  {
   "cell_type": "code",
   "execution_count": 13,
   "metadata": {
    "collapsed": false
   },
   "outputs": [],
   "source": [
    "# 1. Google Play cleaning\n",
    "# Insert in the header the \"English App\" string before\n",
    "# the the app name (first column) to create a new column.\n",
    "googlePlay_clean[0].insert(0, \"English App\")\n",
    "\n",
    "# Loop through the entire data.\n",
    "for row in googlePlay_clean[1:]:\n",
    "    # call the previous func and get the result (True/False)\n",
    "    result = checkEnglishChars(row[0])\n",
    "    # insert the result at the begining of each row.\n",
    "    row.insert(0, result) \n",
    "\n",
    "    \n",
    "# 2. App Store cleaning\n",
    "# (I'm going to use the same convention \"_clean\" as in Google Play).\n",
    "appStore_clean = dataAppStore\n",
    "\n",
    "# Insert in the header the \"English App\" string before\n",
    "# the app name (second column) to create a new column.\n",
    "appStore_clean[0].insert(1, \"english app\")\n",
    "\n",
    "# # Loop through the entire data.\n",
    "for row in appStore_clean[1:]:\n",
    "    # call the previous func and get the result (True/False)\n",
    "    result = checkEnglishChars(row[1])\n",
    "    # insert the result at the begining of each row.\n",
    "    row.insert(1, result)\n",
    "    "
   ]
  },
  {
   "cell_type": "code",
   "execution_count": 14,
   "metadata": {
    "collapsed": false,
    "scrolled": true
   },
   "outputs": [
    {
     "name": "stdout",
     "output_type": "stream",
     "text": [
      "The total non-English apps in Google Play are:  38\n",
      "The total non-English apps in App Store are:  0\n"
     ]
    }
   ],
   "source": [
    "# Explore data sets for non-English apps.\n",
    "\n",
    "# Google Play\n",
    "gCount = 0\n",
    "gNonEnglish = []\n",
    "for row in googlePlay_clean[1:]:\n",
    "    if not row[0]:\n",
    "        gNonEnglish.append(row)\n",
    "        gCount += 1\n",
    "\n",
    "print(\"The total non-English apps in Google Play are: \", gCount)\n",
    "\n",
    "# App Store\n",
    "asCount = 0\n",
    "asNonEnglish = []\n",
    "for row in appStore_clean[1:]:\n",
    "    if not row[0]:\n",
    "        asNonEnglish.append(row)\n",
    "        asCount += 1\n",
    "\n",
    "print(\"The total non-English apps in App Store are: \", asCount)\n"
   ]
  },
  {
   "cell_type": "code",
   "execution_count": 15,
   "metadata": {
    "collapsed": false
   },
   "outputs": [],
   "source": [
    "# print the non-English rows from Google Play data.\n",
    "# for row in gNonEnglish:\n",
    "#     print(row, \"\\n\")"
   ]
  },
  {
   "cell_type": "code",
   "execution_count": 16,
   "metadata": {
    "collapsed": false
   },
   "outputs": [
    {
     "name": "stdout",
     "output_type": "stream",
     "text": [
      "The total Free English apps in App Store are:  3228\n",
      "The total Free English apps in Google Play are:  8871\n"
     ]
    }
   ],
   "source": [
    "# Selecting the free-apps only.\n",
    "free_AppStore = []\n",
    "free_GooglePlay = []\n",
    "\n",
    "# App Store\n",
    "for row in appStore_clean[1:]:\n",
    "    if row[1] and float(row[5]) == 0:\n",
    "        free_AppStore.append(row)\n",
    "        \n",
    "print(\"The total Free English apps in App Store are: \", len(free_AppStore))\n",
    "    \n",
    "# Google Play\n",
    "for row in googlePlay_clean[1:]:\n",
    "    if row[0] and (row[8] == \"0\" or row[8] == \"0.0\"):\n",
    "        free_GooglePlay.append(row)\n",
    "        \n",
    "print(\"The total Free English apps in Google Play are: \", len(free_GooglePlay))\n",
    "    \n",
    "    \n",
    "    \n",
    "    \n",
    "    "
   ]
  },
  {
   "cell_type": "markdown",
   "metadata": {},
   "source": [
    "## Application Profile.\n",
    "From here, we'll concentrate onto what kind of applications we need to build, by analysing the data. Also, we need to build the app foe both the major platforms."
   ]
  },
  {
   "cell_type": "code",
   "execution_count": 17,
   "metadata": {
    "collapsed": false
   },
   "outputs": [],
   "source": [
    "# generate frequency table from a list of lists,\n",
    "# for any column of that list.\n",
    "def freq_table(dataset, lstColIndex):\n",
    "    freqColumnData = {}\n",
    "    \n",
    "    for row in dataset:\n",
    "        freqValue = row[lstColIndex]\n",
    "        if freqValue in freqColumnData:\n",
    "            freqColumnData[freqValue] += 1\n",
    "        else:\n",
    "            freqColumnData[freqValue] = 1\n",
    "    \n",
    "    # Get the number of genres and the grand total of all genres.\n",
    "    numOfGenres = 0\n",
    "    grandTotalGenres = 0\n",
    "    for genre in freqColumnData:\n",
    "        numOfGenres += 1\n",
    "        grandTotalGenres += freqColumnData[genre]\n",
    "#     print(\"Number of Genres: \", numOfGenres)\n",
    "#     print(\"Grand Total of all frequencies: \", grandTotalGenres)\n",
    "    \n",
    "    # convert the list values to percentages\n",
    "    for genre in freqColumnData:\n",
    "        perCent = (freqColumnData[genre] / grandTotalGenres) * 100\n",
    "        perCent = round(perCent, 2)\n",
    "        freqColumnData[genre] = perCent   \n",
    "    \n",
    "    return freqColumnData\n",
    "\n",
    "\n",
    "# transforms the frequency table into a list of tuples,\n",
    "# then sorts the list in a descending order.\n",
    "def display_table(dataset, index):\n",
    "    table = freq_table(dataset, index)\n",
    "    table_display = []\n",
    "\n",
    "    for key in table:\n",
    "        key_val_as_tuple = (table[key], key)\n",
    "        table_display.append(key_val_as_tuple)\n",
    "\n",
    "    table_sorted = sorted(table_display, reverse = True)\n",
    "    for entry in table_sorted:\n",
    "        print(entry[1], ':', entry[0])\n",
    "    "
   ]
  },
  {
   "cell_type": "code",
   "execution_count": 18,
   "metadata": {
    "collapsed": false
   },
   "outputs": [
    {
     "name": "stdout",
     "output_type": "stream",
     "text": [
      "Frequency Table for App Store/Prime Genre:\n",
      "Games : 58.12\n",
      "Entertainment : 7.87\n",
      "Photo & Video : 4.96\n",
      "Education : 3.66\n",
      "Social Networking : 3.28\n",
      "Shopping : 2.63\n",
      "Utilities : 2.51\n",
      "Sports : 2.14\n",
      "Music : 2.04\n",
      "Health & Fitness : 2.01\n",
      "Productivity : 1.73\n",
      "Lifestyle : 1.58\n",
      "News : 1.33\n",
      "Travel : 1.24\n",
      "Finance : 1.15\n",
      "Weather : 0.9\n",
      "Food & Drink : 0.84\n",
      "Reference : 0.56\n",
      "Business : 0.53\n",
      "Book : 0.43\n",
      "Navigation : 0.19\n",
      "Medical : 0.19\n",
      "Catalogs : 0.12\n",
      "\n",
      "Frequency Table for Google Play/Category:\n",
      "FAMILY : 18.9\n",
      "GAME : 9.72\n",
      "TOOLS : 8.45\n",
      "BUSINESS : 4.59\n",
      "LIFESTYLE : 3.91\n",
      "PRODUCTIVITY : 3.89\n",
      "FINANCE : 3.7\n",
      "MEDICAL : 3.53\n",
      "SPORTS : 3.39\n",
      "PERSONALIZATION : 3.33\n",
      "COMMUNICATION : 3.24\n",
      "HEALTH_AND_FITNESS : 3.08\n",
      "PHOTOGRAPHY : 2.94\n",
      "NEWS_AND_MAGAZINES : 2.8\n",
      "SOCIAL : 2.66\n",
      "TRAVEL_AND_LOCAL : 2.33\n",
      "SHOPPING : 2.24\n",
      "BOOKS_AND_REFERENCE : 2.16\n",
      "DATING : 1.86\n",
      "VIDEO_PLAYERS : 1.79\n",
      "MAPS_AND_NAVIGATION : 1.41\n",
      "FOOD_AND_DRINK : 1.24\n",
      "EDUCATION : 1.16\n",
      "ENTERTAINMENT : 0.96\n",
      "LIBRARIES_AND_DEMO : 0.94\n",
      "AUTO_AND_VEHICLES : 0.92\n",
      "HOUSE_AND_HOME : 0.82\n",
      "WEATHER : 0.8\n",
      "EVENTS : 0.71\n",
      "PARENTING : 0.65\n",
      "ART_AND_DESIGN : 0.65\n",
      "COMICS : 0.62\n",
      "BEAUTY : 0.6\n",
      "\n",
      "Frequency Table for Google Play/Genres:\n",
      "Tools : 8.44\n",
      "Entertainment : 6.06\n",
      "Education : 5.35\n",
      "Business : 4.59\n",
      "Lifestyle : 3.9\n",
      "Productivity : 3.89\n",
      "Finance : 3.7\n",
      "Medical : 3.53\n",
      "Sports : 3.46\n",
      "Personalization : 3.33\n",
      "Communication : 3.24\n",
      "Action : 3.1\n",
      "Health & Fitness : 3.08\n",
      "Photography : 2.94\n",
      "News & Magazines : 2.8\n",
      "Social : 2.66\n",
      "Travel & Local : 2.32\n",
      "Shopping : 2.24\n",
      "Books & Reference : 2.16\n",
      "Simulation : 2.04\n",
      "Dating : 1.86\n",
      "Arcade : 1.85\n",
      "Video Players & Editors : 1.77\n",
      "Casual : 1.76\n",
      "Maps & Navigation : 1.41\n",
      "Food & Drink : 1.24\n",
      "Puzzle : 1.13\n",
      "Racing : 0.99\n",
      "Role Playing : 0.94\n",
      "Libraries & Demo : 0.94\n",
      "Auto & Vehicles : 0.92\n",
      "Strategy : 0.91\n",
      "House & Home : 0.82\n",
      "Weather : 0.8\n",
      "Events : 0.71\n",
      "Adventure : 0.68\n",
      "Comics : 0.61\n",
      "Art & Design : 0.61\n",
      "Beauty : 0.6\n",
      "Parenting : 0.5\n",
      "Card : 0.45\n",
      "Casino : 0.43\n",
      "Trivia : 0.42\n",
      "Educational;Education : 0.39\n",
      "Board : 0.38\n",
      "Educational : 0.37\n",
      "Education;Education : 0.34\n",
      "Word : 0.26\n",
      "Casual;Pretend Play : 0.24\n",
      "Music : 0.2\n",
      "Racing;Action & Adventure : 0.17\n",
      "Puzzle;Brain Games : 0.17\n",
      "Entertainment;Music & Video : 0.17\n",
      "Casual;Brain Games : 0.14\n",
      "Casual;Action & Adventure : 0.14\n",
      "Arcade;Action & Adventure : 0.12\n",
      "Action;Action & Adventure : 0.1\n",
      "Educational;Pretend Play : 0.09\n",
      "Simulation;Action & Adventure : 0.08\n",
      "Parenting;Education : 0.08\n",
      "Entertainment;Brain Games : 0.08\n",
      "Board;Brain Games : 0.08\n",
      "Parenting;Music & Video : 0.07\n",
      "Educational;Brain Games : 0.07\n",
      "Casual;Creativity : 0.07\n",
      "Art & Design;Creativity : 0.07\n",
      "Education;Pretend Play : 0.06\n",
      "Role Playing;Pretend Play : 0.05\n",
      "Education;Creativity : 0.05\n",
      "Role Playing;Action & Adventure : 0.03\n",
      "Puzzle;Action & Adventure : 0.03\n",
      "Entertainment;Creativity : 0.03\n",
      "Entertainment;Action & Adventure : 0.03\n",
      "Educational;Creativity : 0.03\n",
      "Educational;Action & Adventure : 0.03\n",
      "Education;Music & Video : 0.03\n",
      "Education;Brain Games : 0.03\n",
      "Education;Action & Adventure : 0.03\n",
      "Adventure;Action & Adventure : 0.03\n",
      "Video Players & Editors;Music & Video : 0.02\n",
      "Sports;Action & Adventure : 0.02\n",
      "Simulation;Pretend Play : 0.02\n",
      "Puzzle;Creativity : 0.02\n",
      "Music;Music & Video : 0.02\n",
      "Entertainment;Pretend Play : 0.02\n",
      "Casual;Education : 0.02\n",
      "Board;Action & Adventure : 0.02\n",
      "Video Players & Editors;Creativity : 0.01\n",
      "Trivia;Education : 0.01\n",
      "Travel & Local;Action & Adventure : 0.01\n",
      "Tools;Education : 0.01\n",
      "Strategy;Education : 0.01\n",
      "Strategy;Creativity : 0.01\n",
      "Strategy;Action & Adventure : 0.01\n",
      "Simulation;Education : 0.01\n",
      "Role Playing;Brain Games : 0.01\n",
      "Racing;Pretend Play : 0.01\n",
      "Puzzle;Education : 0.01\n",
      "Parenting;Brain Games : 0.01\n",
      "Music & Audio;Music & Video : 0.01\n",
      "Lifestyle;Pretend Play : 0.01\n",
      "Lifestyle;Education : 0.01\n",
      "Health & Fitness;Education : 0.01\n",
      "Health & Fitness;Action & Adventure : 0.01\n",
      "Entertainment;Education : 0.01\n",
      "Communication;Creativity : 0.01\n",
      "Comics;Creativity : 0.01\n",
      "Casual;Music & Video : 0.01\n",
      "Card;Action & Adventure : 0.01\n",
      "Books & Reference;Education : 0.01\n",
      "Art & Design;Pretend Play : 0.01\n",
      "Art & Design;Action & Adventure : 0.01\n",
      "Arcade;Pretend Play : 0.01\n",
      "Adventure;Education : 0.01\n"
     ]
    }
   ],
   "source": [
    "# Print the results for analysis:\n",
    "print(\"Frequency Table for App Store/Prime Genre:\")    \n",
    "display_table(free_AppStore, 12)\n",
    "print()\n",
    "\n",
    "print(\"Frequency Table for Google Play/Category:\")    \n",
    "display_table(free_GooglePlay, 2)\n",
    "print()\n",
    "\n",
    "print(\"Frequency Table for Google Play/Genres:\")    \n",
    "display_table(free_GooglePlay, 10)\n"
   ]
  },
  {
   "cell_type": "markdown",
   "metadata": {},
   "source": [
    "### Analyse average installations per genre/category"
   ]
  },
  {
   "cell_type": "code",
   "execution_count": 19,
   "metadata": {
    "collapsed": false
   },
   "outputs": [
    {
     "name": "stdout",
     "output_type": "stream",
     "text": [
      "App Store average values per genre\n",
      "\n",
      "Genre\t\tAverage User Ratings\n",
      "-------------------------------------\n",
      "Social Networking \t\t 71548.35\n",
      "Health & Fitness \t\t 23298.02\n",
      "Weather \t\t 50477.55\n",
      "Productivity \t\t 21028.41\n",
      "Photo & Video \t\t 28441.54\n",
      "Music \t\t 57326.53\n",
      "Utilities \t\t 18684.46\n",
      "Medical \t\t 612.0\n",
      "Finance \t\t 30617.81\n",
      "Navigation \t\t 86090.33\n",
      "Book \t\t 39758.5\n",
      "Education \t\t 7003.98\n",
      "News \t\t 21248.02\n",
      "Games \t\t 22764.91\n",
      "Catalogs \t\t 4004.0\n",
      "Business \t\t 7491.12\n",
      "Lifestyle \t\t 16485.76\n",
      "Shopping \t\t 26608.0\n",
      "Entertainment \t\t 14029.83\n",
      "Reference \t\t 74942.11\n",
      "Sports \t\t 23008.9\n",
      "Travel \t\t 28243.8\n",
      "Food & Drink \t\t 32099.52\n"
     ]
    }
   ],
   "source": [
    "# 1. App Store: Generating a frequency table for the prime_genre column.\n",
    "\n",
    "genre_AppStore = freq_table(free_AppStore, 12)\n",
    "print(\"App Store average values per genre\\n\")\n",
    "print(\"Genre\\t\\tAverage User Ratings\")\n",
    "print(\"-------------------------------------\")\n",
    "\n",
    "for genre in genre_AppStore:\n",
    "    # \"total\" store the sum of user ratings (the number of ratings,\n",
    "    # not the actual ratings) specific to each genre.\n",
    "    total = 0\n",
    "    len_genre = 0 # the number of apps of each genre.\n",
    "    \n",
    "    for row in free_AppStore:\n",
    "        genre_app = row[12] # the genre of each app in the main file.\n",
    "        if genre_app == genre: # if it's the same as the outer\n",
    "            user_ratings = float(row[6]) # get the user_count_tot column\n",
    "            # Add up the number of user ratings to the total variable.\n",
    "            total += user_ratings \n",
    "            len_genre += 1 # Increment the len_genre variable by 1.\n",
    "    \n",
    "    avgUserRatings = total / len_genre\n",
    "    print(genre, \"\\t\\t\", round(avgUserRatings, 2))\n"
   ]
  },
  {
   "cell_type": "markdown",
   "metadata": {},
   "source": [
    "### App Store profile recommentation."
   ]
  },
  {
   "cell_type": "code",
   "execution_count": 20,
   "metadata": {
    "collapsed": false
   },
   "outputs": [
    {
     "name": "stdout",
     "output_type": "stream",
     "text": [
      "TOOLS \t\t 10801391.3\n",
      "DATING \t\t 854028.83\n",
      "LIBRARIES_AND_DEMO \t\t 638503.73\n",
      "SHOPPING \t\t 7036877.31\n",
      "FAMILY \t\t 3693438.69\n",
      "EDUCATION \t\t 1833495.15\n",
      "ENTERTAINMENT \t\t 11640705.88\n",
      "LIFESTYLE \t\t 1433701.52\n",
      "NEWS_AND_MAGAZINES \t\t 9549178.47\n",
      "WEATHER \t\t 5074486.2\n",
      "PERSONALIZATION \t\t 5183850.81\n",
      "HEALTH_AND_FITNESS \t\t 4188821.99\n",
      "EVENTS \t\t 253542.22\n",
      "FOOD_AND_DRINK \t\t 1924897.74\n",
      "PRODUCTIVITY \t\t 16787331.34\n",
      "MAPS_AND_NAVIGATION \t\t 4025286.24\n",
      "PARENTING \t\t 542603.62\n",
      "BUSINESS \t\t 1712290.15\n",
      "AUTO_AND_VEHICLES \t\t 647317.82\n",
      "BEAUTY \t\t 513151.89\n",
      "GAME \t\t 15588015.6\n",
      "COMICS \t\t 817657.27\n",
      "TRAVEL_AND_LOCAL \t\t 13984077.71\n",
      "PHOTOGRAPHY \t\t 17840110.4\n",
      "COMMUNICATION \t\t 38456119.17\n",
      "HOUSE_AND_HOME \t\t 1331540.56\n",
      "VIDEO_PLAYERS \t\t 24727872.45\n",
      "BOOKS_AND_REFERENCE \t\t 8676537.81\n",
      "ART_AND_DESIGN \t\t 1952105.17\n",
      "SOCIAL \t\t 23253652.13\n",
      "MEDICAL \t\t 120550.62\n",
      "FINANCE \t\t 1387692.48\n",
      "SPORTS \t\t 3638640.14\n"
     ]
    }
   ],
   "source": [
    "# 1. Google Play: Generating a frequency table for the \"category\" column.\n",
    "\n",
    "category_GooglePlay = freq_table(free_GooglePlay, 2)\n",
    "# print(\"Google Play average values per category\\n\")\n",
    "# print(\"Category\\t\\tAverage User Ratings\")\n",
    "# print(\"-------------------------------------\")\n",
    "\n",
    "for category in category_GooglePlay:    \n",
    "    total = 0 # \"total\" stores the sum of installs of each category.\n",
    "    len_category = 0 # the number of apps specific to each category.\n",
    "    \n",
    "    for row in free_GooglePlay:\n",
    "        category_app = row[2] # the category of each app in the main file.\n",
    "        if category_app == category: # if it's the same as the outer\n",
    "            user_installs = row[6] # get the \"installs\" column.\n",
    "            \n",
    "            # clean the numbers and covert.\n",
    "            user_installs = user_installs.replace(\",\", \"\")\n",
    "            user_installs = user_installs.replace(\"+\", \"\")\n",
    "            user_installs = float(user_installs)\n",
    "            \n",
    "            # Add up the number of installations to the total variable.\n",
    "            total += user_installs \n",
    "            len_category += 1 # Increment the \"len_category\" var. by 1.\n",
    "    \n",
    "    avgUserRatings = total / len_category\n",
    "    print(category, \"\\t\\t\", round(avgUserRatings, 2))\n"
   ]
  },
  {
   "cell_type": "markdown",
   "metadata": {},
   "source": [
    "### Google Play profile recommentation."
   ]
  },
  {
   "cell_type": "markdown",
   "metadata": {},
   "source": [
    "# Conclusions\n",
    "In this project, we analyzed data about the App Store and Google Play mobile apps with the goal of recommending an app profile that can be profitable for both markets.\n",
    "\n",
    "We concluded that taking a popular book (perhaps a more recent book) and turning it into an app could be profitable for both the Google Play and the App Store markets. The markets are already full of libraries, so we need to add some special features besides the raw version of the book. This might include daily quotes from the book, an audio version of the book, quizzes on the book, a forum where people can discuss the book, etc."
   ]
  }
 ],
 "metadata": {
  "kernelspec": {
   "display_name": "Python 3",
   "language": "python",
   "name": "python3"
  },
  "language_info": {
   "codemirror_mode": {
    "name": "ipython",
    "version": 3
   },
   "file_extension": ".py",
   "mimetype": "text/x-python",
   "name": "python",
   "nbconvert_exporter": "python",
   "pygments_lexer": "ipython3",
   "version": "3.4.3"
  }
 },
 "nbformat": 4,
 "nbformat_minor": 2
}
